{
 "cells": [
  {
   "cell_type": "code",
   "execution_count": 1,
   "id": "7ffa2a66-5372-4c17-86d8-86eaa807e02a",
   "metadata": {
    "tags": []
   },
   "outputs": [
    {
     "name": "stdin",
     "output_type": "stream",
     "text": [
      "How many mini grids do you want to simulate?  6\n",
      "How many houses do you want in MiniGrid 1?  12\n",
      "Average sunlight hours for MiniGrid 1?  7\n",
      "Enter average daily consumption for houses in MiniGrid 1 (in kWh):  33\n",
      "How many houses do you want in MiniGrid 2?  9\n",
      "Average sunlight hours for MiniGrid 2?  5\n",
      "Enter average daily consumption for houses in MiniGrid 2 (in kWh):  38\n",
      "How many houses do you want in MiniGrid 3?  7\n",
      "Average sunlight hours for MiniGrid 3?  6\n",
      "Enter average daily consumption for houses in MiniGrid 3 (in kWh):  30\n",
      "How many houses do you want in MiniGrid 4?  16\n",
      "Average sunlight hours for MiniGrid 4?  7\n",
      "Enter average daily consumption for houses in MiniGrid 4 (in kWh):  28\n",
      "How many houses do you want in MiniGrid 5?  8\n",
      "Average sunlight hours for MiniGrid 5?  8\n",
      "Enter average daily consumption for houses in MiniGrid 5 (in kWh):  22\n",
      "How many houses do you want in MiniGrid 6?  5\n",
      "Average sunlight hours for MiniGrid 6?  6\n",
      "Enter average daily consumption for houses in MiniGrid 6 (in kWh):  25\n"
     ]
    },
    {
     "name": "stdout",
     "output_type": "stream",
     "text": [
      "Total revenue from selling to houses: $739.963\n",
      "Total unmet demand: 0 kWh\n",
      "\n",
      "MiniGrid 1:\n",
      "\tNumber of houses: 12\n",
      "\tAverage consumption/hour: 1.65 kWh\n",
      "\tSolar capacity: 84.574 kWp\n",
      "\tBattery capacity: 493.35 kWh\n",
      "\n",
      "MiniGrid 2:\n",
      "\tNumber of houses: 9\n",
      "\tAverage consumption/hour: 1.9 kWh\n",
      "\tSolar capacity: 102.258 kWp\n",
      "\tBattery capacity: 426.075 kWh\n",
      "\n",
      "MiniGrid 3:\n",
      "\tNumber of houses: 7\n",
      "\tAverage consumption/hour: 1.5 kWh\n",
      "\tSolar capacity: 52.325 kWp\n",
      "\tBattery capacity: 261.625 kWh\n",
      "\n",
      "MiniGrid 4:\n",
      "\tNumber of houses: 16\n",
      "\tAverage consumption/hour: 1.4 kWh\n",
      "\tSolar capacity: 95.68 kWp\n",
      "\tBattery capacity: 558.133 kWh\n",
      "\n",
      "MiniGrid 5:\n",
      "\tNumber of houses: 8\n",
      "\tAverage consumption/hour: 1.1 kWh\n",
      "\tSolar capacity: 32.89 kWp\n",
      "\tBattery capacity: 219.267 kWh\n",
      "\n",
      "MiniGrid 6:\n",
      "\tNumber of houses: 5\n",
      "\tAverage consumption/hour: 1.25 kWh\n",
      "\tSolar capacity: 31.146 kWp\n",
      "\tBattery capacity: 155.729 kWh\n"
     ]
    }
   ],
   "source": [
    "%run MasterNetwork.py"
   ]
  },
  {
   "cell_type": "code",
   "execution_count": null,
   "id": "66a67c9c-1a61-488a-885a-3df0df16bf97",
   "metadata": {},
   "outputs": [],
   "source": []
  },
  {
   "cell_type": "code",
   "execution_count": null,
   "id": "6cb7826f-da2e-4c0d-8805-c834ae31a74e",
   "metadata": {},
   "outputs": [],
   "source": []
  },
  {
   "cell_type": "code",
   "execution_count": 2,
   "id": "38399405-ea00-454b-ba36-cd378e737a98",
   "metadata": {},
   "outputs": [],
   "source": [
    "import pandas as pd"
   ]
  },
  {
   "cell_type": "code",
   "execution_count": 3,
   "id": "1e0e3e9a-d3ca-4418-9e72-e87dbeab5ef2",
   "metadata": {},
   "outputs": [],
   "source": [
    "grid1 = pd.read_csv('mini_grid_log_1.csv')"
   ]
  },
  {
   "cell_type": "code",
   "execution_count": 17,
   "id": "7dad1303-a561-4794-9eb5-44af67dd4682",
   "metadata": {},
   "outputs": [
    {
     "data": {
      "text/plain": [
       "0    3.00\n",
       "1    2.75\n",
       "2    2.50\n",
       "3    2.25\n",
       "4    2.00\n",
       "5    1.75\n",
       "6    1.50\n",
       "7    1.75\n",
       "8    2.00\n",
       "9    2.25\n",
       "Name: total_demand_kWh, dtype: float64"
      ]
     },
     "execution_count": 17,
     "metadata": {},
     "output_type": "execute_result"
    }
   ],
   "source": [
    "grid1['total_demand_kWh']"
   ]
  },
  {
   "cell_type": "code",
   "execution_count": 28,
   "id": "122c1fc3-a040-4961-8d5b-27571c301eb0",
   "metadata": {},
   "outputs": [
    {
     "data": {
      "text/html": [
       "<div>\n",
       "<style scoped>\n",
       "    .dataframe tbody tr th:only-of-type {\n",
       "        vertical-align: middle;\n",
       "    }\n",
       "\n",
       "    .dataframe tbody tr th {\n",
       "        vertical-align: top;\n",
       "    }\n",
       "\n",
       "    .dataframe thead th {\n",
       "        text-align: right;\n",
       "    }\n",
       "</style>\n",
       "<table border=\"1\" class=\"dataframe\">\n",
       "  <thead>\n",
       "    <tr style=\"text-align: right;\">\n",
       "      <th></th>\n",
       "      <th>simulation_hour</th>\n",
       "      <th>generation_kWh</th>\n",
       "      <th>total_demand_kWh</th>\n",
       "      <th>unmet_demand_kWh</th>\n",
       "      <th>internal_grid_transactions_kWh</th>\n",
       "      <th>external_grid_transactions_kWh</th>\n",
       "      <th>revenue_USD</th>\n",
       "      <th>battery_level_kWh</th>\n",
       "      <th>battery_%</th>\n",
       "    </tr>\n",
       "  </thead>\n",
       "  <tbody>\n",
       "    <tr>\n",
       "      <th>0</th>\n",
       "      <td>0</td>\n",
       "      <td>0.0</td>\n",
       "      <td>3.00</td>\n",
       "      <td>0</td>\n",
       "      <td>[]</td>\n",
       "      <td>[]</td>\n",
       "      <td>0.150</td>\n",
       "      <td>109.125</td>\n",
       "      <td>29.20</td>\n",
       "    </tr>\n",
       "    <tr>\n",
       "      <th>1</th>\n",
       "      <td>1</td>\n",
       "      <td>0.0</td>\n",
       "      <td>2.75</td>\n",
       "      <td>0</td>\n",
       "      <td>[]</td>\n",
       "      <td>[]</td>\n",
       "      <td>0.288</td>\n",
       "      <td>106.375</td>\n",
       "      <td>28.46</td>\n",
       "    </tr>\n",
       "    <tr>\n",
       "      <th>2</th>\n",
       "      <td>2</td>\n",
       "      <td>0.0</td>\n",
       "      <td>2.50</td>\n",
       "      <td>0</td>\n",
       "      <td>[]</td>\n",
       "      <td>[]</td>\n",
       "      <td>0.413</td>\n",
       "      <td>103.875</td>\n",
       "      <td>27.79</td>\n",
       "    </tr>\n",
       "  </tbody>\n",
       "</table>\n",
       "</div>"
      ],
      "text/plain": [
       "   simulation_hour  generation_kWh  total_demand_kWh  unmet_demand_kWh  \\\n",
       "0                0             0.0              3.00                 0   \n",
       "1                1             0.0              2.75                 0   \n",
       "2                2             0.0              2.50                 0   \n",
       "\n",
       "  internal_grid_transactions_kWh external_grid_transactions_kWh  revenue_USD  \\\n",
       "0                             []                             []        0.150   \n",
       "1                             []                             []        0.288   \n",
       "2                             []                             []        0.413   \n",
       "\n",
       "   battery_level_kWh  battery_%  \n",
       "0            109.125      29.20  \n",
       "1            106.375      28.46  \n",
       "2            103.875      27.79  "
      ]
     },
     "execution_count": 28,
     "metadata": {},
     "output_type": "execute_result"
    }
   ],
   "source": [
    "grid1.loc[:2]"
   ]
  },
  {
   "cell_type": "code",
   "execution_count": 31,
   "id": "3f52dcac-2347-4fae-be43-5824e9c00092",
   "metadata": {},
   "outputs": [
    {
     "data": {
      "text/html": [
       "<div>\n",
       "<style scoped>\n",
       "    .dataframe tbody tr th:only-of-type {\n",
       "        vertical-align: middle;\n",
       "    }\n",
       "\n",
       "    .dataframe tbody tr th {\n",
       "        vertical-align: top;\n",
       "    }\n",
       "\n",
       "    .dataframe thead th {\n",
       "        text-align: right;\n",
       "    }\n",
       "</style>\n",
       "<table border=\"1\" class=\"dataframe\">\n",
       "  <thead>\n",
       "    <tr style=\"text-align: right;\">\n",
       "      <th></th>\n",
       "      <th>total_demand_kWh</th>\n",
       "      <th>generation_kWh</th>\n",
       "    </tr>\n",
       "  </thead>\n",
       "  <tbody>\n",
       "    <tr>\n",
       "      <th>0</th>\n",
       "      <td>3.00</td>\n",
       "      <td>0.0</td>\n",
       "    </tr>\n",
       "    <tr>\n",
       "      <th>1</th>\n",
       "      <td>2.75</td>\n",
       "      <td>0.0</td>\n",
       "    </tr>\n",
       "    <tr>\n",
       "      <th>2</th>\n",
       "      <td>2.50</td>\n",
       "      <td>0.0</td>\n",
       "    </tr>\n",
       "  </tbody>\n",
       "</table>\n",
       "</div>"
      ],
      "text/plain": [
       "   total_demand_kWh  generation_kWh\n",
       "0              3.00             0.0\n",
       "1              2.75             0.0\n",
       "2              2.50             0.0"
      ]
     },
     "execution_count": 31,
     "metadata": {},
     "output_type": "execute_result"
    }
   ],
   "source": [
    "grid1.loc[:2,['total_demand_kWh', 'generation_kWh']]"
   ]
  },
  {
   "cell_type": "code",
   "execution_count": 65,
   "id": "22cb4c95-c6d4-4e91-8a90-84ce4b96abd4",
   "metadata": {},
   "outputs": [
    {
     "data": {
      "text/html": [
       "<div>\n",
       "<style scoped>\n",
       "    .dataframe tbody tr th:only-of-type {\n",
       "        vertical-align: middle;\n",
       "    }\n",
       "\n",
       "    .dataframe tbody tr th {\n",
       "        vertical-align: top;\n",
       "    }\n",
       "\n",
       "    .dataframe thead th {\n",
       "        text-align: right;\n",
       "    }\n",
       "</style>\n",
       "<table border=\"1\" class=\"dataframe\">\n",
       "  <thead>\n",
       "    <tr style=\"text-align: right;\">\n",
       "      <th></th>\n",
       "      <th>generation_kWh</th>\n",
       "      <th>total_demand_kWh</th>\n",
       "    </tr>\n",
       "  </thead>\n",
       "  <tbody>\n",
       "    <tr>\n",
       "      <th>0</th>\n",
       "      <td>0.0</td>\n",
       "      <td>3.00</td>\n",
       "    </tr>\n",
       "    <tr>\n",
       "      <th>1</th>\n",
       "      <td>0.0</td>\n",
       "      <td>2.75</td>\n",
       "    </tr>\n",
       "    <tr>\n",
       "      <th>2</th>\n",
       "      <td>0.0</td>\n",
       "      <td>2.50</td>\n",
       "    </tr>\n",
       "    <tr>\n",
       "      <th>3</th>\n",
       "      <td>0.0</td>\n",
       "      <td>2.25</td>\n",
       "    </tr>\n",
       "    <tr>\n",
       "      <th>4</th>\n",
       "      <td>0.0</td>\n",
       "      <td>2.00</td>\n",
       "    </tr>\n",
       "    <tr>\n",
       "      <th>5</th>\n",
       "      <td>0.0</td>\n",
       "      <td>1.75</td>\n",
       "    </tr>\n",
       "    <tr>\n",
       "      <th>6</th>\n",
       "      <td>0.0</td>\n",
       "      <td>1.50</td>\n",
       "    </tr>\n",
       "    <tr>\n",
       "      <th>7</th>\n",
       "      <td>0.0</td>\n",
       "      <td>1.75</td>\n",
       "    </tr>\n",
       "  </tbody>\n",
       "</table>\n",
       "</div>"
      ],
      "text/plain": [
       "   generation_kWh  total_demand_kWh\n",
       "0             0.0              3.00\n",
       "1             0.0              2.75\n",
       "2             0.0              2.50\n",
       "3             0.0              2.25\n",
       "4             0.0              2.00\n",
       "5             0.0              1.75\n",
       "6             0.0              1.50\n",
       "7             0.0              1.75"
      ]
     },
     "execution_count": 65,
     "metadata": {},
     "output_type": "execute_result"
    }
   ],
   "source": [
    "grid1.iloc[:8,1:3]"
   ]
  },
  {
   "cell_type": "code",
   "execution_count": 95,
   "id": "eb20b3a9-541b-42e8-93d9-f49ba92b67a4",
   "metadata": {},
   "outputs": [
    {
     "data": {
      "text/plain": [
       "(array([3.  , 2.75, 2.5 , 2.25]),\n",
       " array([2.75, 2.5 , 2.25, 2.  ]),\n",
       " array([2.5 , 2.25, 2.  , 1.75]))"
      ]
     },
     "execution_count": 95,
     "metadata": {},
     "output_type": "execute_result"
    }
   ],
   "source": [
    "grid1['total_demand_kWh'].iloc[0:4].values, grid1['total_demand_kWh'].iloc[1:5].values, grid1['total_demand_kWh'].iloc[2:6].values"
   ]
  },
  {
   "cell_type": "code",
   "execution_count": 96,
   "id": "c53ada6b-0ef8-4a59-a478-55a1e9e7acb6",
   "metadata": {},
   "outputs": [
    {
     "data": {
      "text/plain": [
       "(array(2.), array(1.75), array(1.5))"
      ]
     },
     "execution_count": 96,
     "metadata": {},
     "output_type": "execute_result"
    }
   ],
   "source": [
    "np.array(grid1['total_demand_kWh'].iloc[4]), np.array(grid1['total_demand_kWh'].iloc[5]), np.array(grid1['total_demand_kWh'].iloc[6])"
   ]
  },
  {
   "cell_type": "code",
   "execution_count": 50,
   "id": "e989d995-863c-42b3-9d09-4bc35446671f",
   "metadata": {},
   "outputs": [],
   "source": [
    "import pandas as pd\n",
    "from sklearn.preprocessing import MinMaxScaler\n",
    "from sklearn.model_selection import train_test_split\n",
    "import numpy as np\n",
    "\n",
    "# Function to create dataset for time-series prediction\n",
    "def create_dataset(X, y, time_steps=1):\n",
    "    Xs, ys = [], []\n",
    "    for i in range(len(X) - time_steps):\n",
    "        v = X.iloc[i:(i + time_steps)].values\n",
    "        Xs.append(v)\n",
    "        ys.append(y.iloc[i + time_steps])\n",
    "    return np.array(Xs), np.array(ys)\n",
    "\n",
    "# Load the dataset\n",
    "data1 = pd.read_csv('mini_grid_log_1.csv')\n",
    "data2 = pd.read_csv('mini_grid_log_2.csv')\n",
    "data3 = pd.read_csv('mini_grid_log_3.csv')\n",
    "\n",
    "# Concatenate the datasets\n",
    "data = pd.concat([data1, data2, data3], ignore_index=True)\n",
    "\n",
    "# Normalize the features\n",
    "scaler = MinMaxScaler(feature_range=(0, 1))\n",
    "scaled_data = scaler.fit_transform(data[['total_demand_kWh']])\n",
    "\n",
    "# Define the number of time steps (i.e., the number of hours of demand data to use as input for each prediction)\n",
    "time_steps = 24\n",
    "\n",
    "# Create the dataset for supervised learning\n",
    "X, y = create_dataset(pd.DataFrame(scaled_data), pd.DataFrame(scaled_data), time_steps)\n",
    "\n",
    "# Split the dataset into training and test sets\n",
    "X_train, X_test, y_train, y_test = train_test_split(X, y, test_size=0.2, random_state=42)\n"
   ]
  },
  {
   "cell_type": "code",
   "execution_count": 107,
   "id": "2df70051-61fc-4471-8e26-b587f52c30ff",
   "metadata": {},
   "outputs": [
    {
     "data": {
      "text/plain": [
       "(26280, 1)"
      ]
     },
     "execution_count": 107,
     "metadata": {},
     "output_type": "execute_result"
    }
   ],
   "source": [
    "scaled_data.shape"
   ]
  },
  {
   "cell_type": "code",
   "execution_count": 106,
   "id": "3e67b9c1-e0de-4478-a994-70655242bfae",
   "metadata": {},
   "outputs": [
    {
     "data": {
      "text/plain": [
       "(26280, 1)"
      ]
     },
     "execution_count": 106,
     "metadata": {},
     "output_type": "execute_result"
    }
   ],
   "source": [
    "data[['total_demand_kWh']].shape"
   ]
  },
  {
   "cell_type": "code",
   "execution_count": 110,
   "id": "a50d9b1b-509e-437b-a279-d529a078543e",
   "metadata": {},
   "outputs": [
    {
     "data": {
      "text/plain": [
       "((21004, 24, 1), (5252, 24, 1))"
      ]
     },
     "execution_count": 110,
     "metadata": {},
     "output_type": "execute_result"
    }
   ],
   "source": [
    "X_train.shape, X_test.shape"
   ]
  },
  {
   "cell_type": "code",
   "execution_count": 109,
   "id": "0b2d20a9-5c31-4239-80d2-906ccfb7d7f1",
   "metadata": {},
   "outputs": [
    {
     "data": {
      "text/plain": [
       "(21004, 1)"
      ]
     },
     "execution_count": 109,
     "metadata": {},
     "output_type": "execute_result"
    }
   ],
   "source": [
    "y_train.shape"
   ]
  },
  {
   "cell_type": "code",
   "execution_count": null,
   "id": "03cb7634-08b6-487d-bb48-53b5f078194e",
   "metadata": {},
   "outputs": [],
   "source": []
  },
  {
   "cell_type": "code",
   "execution_count": null,
   "id": "bcb394c0-7f26-4d9b-8b6c-0dde88e32f19",
   "metadata": {},
   "outputs": [],
   "source": [
    "for running the simulation we have this snippet -             \n",
    "if __name__ == \"__main__\":\n",
    "    # Example demand profile (24 values representing hourly consumption)\n",
    "    demand_profile = [1.2, 1.1, 1.0, 0.9, 0.8, 0.7, 0.6, 0.7, 0.8, 0.9, 1.0, 1.2,\n",
    "                  1.4, 1.5, 1.6, 1.7, 1.8, 1.9, 1.8, 1.7, 1.6, 1.5, 1.3, 1.2]\n",
    "\n",
    "\n",
    "    # Create a few houses with random average daily consumption\n",
    "    # (id, base_demand, demand_profile)   random.uniform(5, 6)\n",
    "    houses1 = [House(i, 12/24, demand_profile) for i in range(5)]\n",
    "    houses2 = [House(i,  10/24, demand_profile) for i in range(9)]\n",
    "    houses3 = [House(i, 11/24, demand_profile) for i in range(2)]\n",
    "\n",
    "    \n",
    "    \n",
    "    # Create a ConventionalGrid with certain prices\n",
    "    # (buying_price, selling_price)\n",
    "    conventional_grid = ConventionalGrid(0.03, 0.06)\n",
    "\n",
    "    # Create MiniGrid instances without setting neighboring_grids yet\n",
    "    minigrid1 = MiniGrid(id=1, houses = houses1, avg_sunlight_hours = 8, selling_price = 0.05, num_days_backup = 5, \n",
    "                         neighboring_grids = [], conventional_grid=conventional_grid, safety_factor = 1.5)\n",
    "    \n",
    "    minigrid2 = MiniGrid(id=2, houses = houses2, avg_sunlight_hours = 5, selling_price = 0.05, num_days_backup = 5, \n",
    "                         neighboring_grids = [], conventional_grid=conventional_grid, safety_factor = 1.5)\n",
    "    \n",
    "    minigrid3 = MiniGrid(id=3, houses = houses3, avg_sunlight_hours = 6, selling_price = 0.05, num_days_backup = 5, \n",
    "                         neighboring_grids = [], conventional_grid=conventional_grid, safety_factor = 1.5)\n",
    "    \n",
    "\n",
    "    # Now that all MiniGrid instances are created, set the neighboring grids\n",
    "    minigrid1.neighboring_grids = [minigrid2, minigrid3]\n",
    "    minigrid2.neighboring_grids = [minigrid3, minigrid1]\n",
    "    minigrid3.neighboring_grids = [minigrid1, minigrid2]\n",
    "    \n",
    "    # Assign houses to the respective grids and initialize CSVs\n",
    "    for house in houses1:\n",
    "        house.assign_to_grid(minigrid1)\n",
    "       # house.initialize_csv()\n",
    "    \n",
    "    for house in houses2:\n",
    "        house.assign_to_grid(minigrid2)\n",
    "        #house.initialize_csv()\n",
    "    \n",
    "    for house in houses3:\n",
    "        house.assign_to_grid(minigrid3)\n",
    "        #house.initialize_csv()\n",
    "   \n",
    "    # Add the MiniGrids to a list\n",
    "    minigrids = [minigrid1, minigrid2, minigrid3]\n",
    "\n",
    "    # Create a Simulation instance\n",
    "    # (conventional_grid, grids)\n",
    "    simulation = Simulation(conventional_grid, minigrids)\n",
    "\n",
    "    # Simulate for a certain number of days\n",
    "    simulation.simulate_days(7)\n",
    "            \n",
    "    \n",
    "    # Save the logs\n",
    "    simulation.save_logs()\n",
    "    for grid in simulation.grids:\n",
    "        grid.save_logs()        \n",
    "\n",
    "\n",
    "    # Output some results\n",
    "    print(f\"Total revenue from selling to houses: ${round(simulation.total_client_revenue, 3)}\")\n",
    "#    print(f\"Total revenue from grid transactions: ${simulation.revenue}\")\n",
    "    print(f\"Total unmet demand: {round(simulation.unmet_demand, 3)} kWh\")\n",
    "    \n",
    "\n",
    "    # Output system information\n",
    "    for i, grid in enumerate(simulation.grids):\n",
    "        # Calculate average consumption for each house in the minigrid\n",
    "        total_consumption = sum(house.current_demand for house in grid.houses)\n",
    "        average_consumption = total_consumption / len(grid.houses) if grid.houses else 0\n",
    "\n",
    "        print(f\"\\nMiniGrid {i + 1}:\")\n",
    "        print(f\"\\tNumber of houses: {len(grid.houses)}\")\n",
    "        print(f\"\\tAverage consumption/hour: {round(average_consumption, 3)} kWh\")\n",
    "        print(f\"\\tSolar capacity: {round(grid.solar_pv.capacity, 3)} kWp\")\n",
    "        print(f\"\\tBattery capacity: {round(grid.battery.capacity, 3)} kWh\")\n",
    "            \n",
    "       "
   ]
  }
 ],
 "metadata": {
  "kernelspec": {
   "display_name": "Python 3 (ipykernel)",
   "language": "python",
   "name": "python3"
  },
  "language_info": {
   "codemirror_mode": {
    "name": "ipython",
    "version": 3
   },
   "file_extension": ".py",
   "mimetype": "text/x-python",
   "name": "python",
   "nbconvert_exporter": "python",
   "pygments_lexer": "ipython3",
   "version": "3.9.7"
  }
 },
 "nbformat": 4,
 "nbformat_minor": 5
}
